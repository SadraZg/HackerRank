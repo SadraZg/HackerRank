{
  "nbformat": 4,
  "nbformat_minor": 0,
  "metadata": {
    "colab": {
      "name": "Bit Manipulation Hackerrank.ipynb",
      "provenance": [],
      "authorship_tag": "ABX9TyMA1J1ZstaQK8KBxbvie6Pb",
      "include_colab_link": true
    },
    "kernelspec": {
      "name": "python3",
      "display_name": "Python 3"
    }
  },
  "cells": [
    {
      "cell_type": "markdown",
      "metadata": {
        "id": "view-in-github",
        "colab_type": "text"
      },
      "source": [
        "<a href=\"https://colab.research.google.com/github/SadraZg/HackerRank/blob/master/Bit_Manipulation/Bit_Manipulation.ipynb\" target=\"_parent\"><img src=\"https://colab.research.google.com/assets/colab-badge.svg\" alt=\"Open In Colab\"/></a>"
      ]
    },
    {
      "cell_type": "markdown",
      "metadata": {
        "id": "zWxLGRTn90oU",
        "colab_type": "text"
      },
      "source": [
        "# Bit Manipulation"
      ]
    },
    {
      "cell_type": "code",
      "metadata": {
        "id": "tUgo-dlSmWWk",
        "colab_type": "code",
        "colab": {
          "base_uri": "https://localhost:8080/",
          "height": 67
        },
        "outputId": "a092360e-dde0-4523-ddb4-c3f415975b1e"
      },
      "source": [
        "# number of test cases\n",
        "T = int(input())\n",
        "\n",
        "for i in range(T):\n",
        "  n = int(input())    # length of array A\n",
        "  A = [int(x) for x in input().split(\" \")]     # frequnecy of consecutive 1's and 0's"
      ],
      "execution_count": 105,
      "outputs": [
        {
          "output_type": "stream",
          "text": [
            "1\n",
            "5\n",
            "4 1 3 2 4\n"
          ],
          "name": "stdout"
        }
      ]
    },
    {
      "cell_type": "code",
      "metadata": {
        "id": "-VZHw3WRnV0b",
        "colab_type": "code",
        "colab": {}
      },
      "source": [
        "# Compute frequency of '1's in given array\n",
        "# Which means sum of all values in even indices\n",
        "total_1 = 0\n",
        "for index, x in enumerate(A): \n",
        "  if index % 2 == 0:\n",
        "    total_1 += x"
      ],
      "execution_count": 0,
      "outputs": []
    },
    {
      "cell_type": "code",
      "metadata": {
        "id": "d8siMcXVocYc",
        "colab_type": "code",
        "colab": {}
      },
      "source": [
        "# Make B, the binary form of given A array \n",
        "B = \"\"\n",
        "for index, f in enumerate(A):\n",
        "  if index % 2 == 0:\n",
        "    B += \"1\" * f\n",
        "  else:\n",
        "    B += \"0\" * f"
      ],
      "execution_count": 0,
      "outputs": []
    },
    {
      "cell_type": "code",
      "metadata": {
        "id": "iP_TTp-lpQOb",
        "colab_type": "code",
        "colab": {}
      },
      "source": [
        "# now we need to increment the binary by 1 step by step until we find another binary with same number of '1's in it\n",
        "# I suggest converting the binary to an int so this work would get easier\n",
        "\n",
        "inted = int(B, 2)\n",
        "while True:\n",
        "  inted += 1\n",
        "  if bin(inted).count(\"1\") == total_1:\n",
        "    break\n",
        "\n",
        "# Found the D, now just convert it back to binary\n",
        "# Notice that a \"0b\" will be added at the first of the binary\n",
        "D = bin(inted)"
      ],
      "execution_count": 0,
      "outputs": []
    },
    {
      "cell_type": "code",
      "metadata": {
        "id": "34ba5XFX6Ktp",
        "colab_type": "code",
        "colab": {}
      },
      "source": [
        "# Remove that \"0b\" part \n",
        "D = D[2:]"
      ],
      "execution_count": 0,
      "outputs": []
    },
    {
      "cell_type": "code",
      "metadata": {
        "id": "XRsNBDR9uYSO",
        "colab_type": "code",
        "colab": {
          "base_uri": "https://localhost:8080/",
          "height": 34
        },
        "outputId": "ae1b9702-4a39-45e9-c8b2-e4a98ef5bc1b"
      },
      "source": [
        "# Create the C array which is number of consecutive binary characters, respectively\n",
        "C = []\n",
        "cur_count = 1\n",
        "\n",
        "for i in range(len(D)):\n",
        "  # Check if next character is the same as current one\n",
        "  # Do so until the last character(because the won't be a next character for this one)\n",
        "  if i < len(D)-1 and D[i] == D[i+1]:\n",
        "    cur_count += 1\n",
        "  else:\n",
        "    C.append(cur_count)\n",
        "    cur_count = 1\n",
        "\n",
        "C"
      ],
      "execution_count": 112,
      "outputs": [
        {
          "output_type": "execute_result",
          "data": {
            "text/plain": [
              "[4, 1, 3, 1, 1, 1, 3]"
            ]
          },
          "metadata": {
            "tags": []
          },
          "execution_count": 112
        }
      ]
    },
    {
      "cell_type": "code",
      "metadata": {
        "id": "t_BziyN-Bmtl",
        "colab_type": "code",
        "colab": {}
      },
      "source": [
        ""
      ],
      "execution_count": 0,
      "outputs": []
    }
  ]
}