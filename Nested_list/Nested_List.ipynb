{
  "nbformat": 4,
  "nbformat_minor": 0,
  "metadata": {
    "colab": {
      "name": "Nested_List.ipynb",
      "provenance": [],
      "authorship_tag": "ABX9TyNS8D5bE5VSyFeG7NPUjxWa",
      "include_colab_link": true
    },
    "kernelspec": {
      "name": "python3",
      "display_name": "Python 3"
    }
  },
  "cells": [
    {
      "cell_type": "markdown",
      "metadata": {
        "id": "view-in-github",
        "colab_type": "text"
      },
      "source": [
        "<a href=\"https://colab.research.google.com/github/SadraZg/HackerRank/blob/master/Nested_list/Nested_List.ipynb\" target=\"_parent\"><img src=\"https://colab.research.google.com/assets/colab-badge.svg\" alt=\"Open In Colab\"/></a>"
      ]
    },
    {
      "cell_type": "code",
      "metadata": {
        "id": "qyOHbBq5Ga1p",
        "colab_type": "code",
        "colab": {
          "base_uri": "https://localhost:8080/",
          "height": 218
        },
        "outputId": "3c73e803-de57-4be0-9f57-964477ce89ce"
      },
      "source": [
        "# Number of students\n",
        "n = int(input())\n",
        "alli = {}\n",
        "\n",
        "for i in range(n):\n",
        "  name = input()\n",
        "  alli[name] = float(input())     # alli = {\"Name1\": grade1, \"Name2\": grade2, ...}\n",
        "\n",
        "# Extract just the grades\n",
        "grade_list = list(alli.values())\n",
        "# Sort those grades ascending\n",
        "grade_list.sort()\n",
        "grade_list"
      ],
      "execution_count": 8,
      "outputs": [
        {
          "output_type": "stream",
          "text": [
            "5\n",
            "Hesam\n",
            "12\n",
            "Javad\n",
            "17\n",
            "John\n",
            "15\n",
            "Jennifer\n",
            "5\n",
            "Sara\n",
            "12\n"
          ],
          "name": "stdout"
        },
        {
          "output_type": "execute_result",
          "data": {
            "text/plain": [
              "[5.0, 12.0, 12.0, 15.0, 17.0]"
            ]
          },
          "metadata": {
            "tags": []
          },
          "execution_count": 8
        }
      ]
    },
    {
      "cell_type": "code",
      "metadata": {
        "id": "YJVDFh2ZGeo1",
        "colab_type": "code",
        "colab": {
          "base_uri": "https://localhost:8080/",
          "height": 34
        },
        "outputId": "67f7ed9f-5120-4e40-96a6-61d0832e5100"
      },
      "source": [
        "# Make sure the smallest grade is not selected    consider grades=[19,19,20,20,21]    both 19's must get lost\n",
        "minimum = grade_list[0]\n",
        "while minimum in grade_list:\n",
        "  grade_list.remove(minimum)\n",
        "grade_list"
      ],
      "execution_count": 9,
      "outputs": [
        {
          "output_type": "execute_result",
          "data": {
            "text/plain": [
              "[12.0, 12.0, 15.0, 17.0]"
            ]
          },
          "metadata": {
            "tags": []
          },
          "execution_count": 9
        }
      ]
    },
    {
      "cell_type": "code",
      "metadata": {
        "id": "44Y6Qty6Gie-",
        "colab_type": "code",
        "colab": {
          "base_uri": "https://localhost:8080/",
          "height": 34
        },
        "outputId": "f8afccd4-9323-4f20-fbd9-a7ef314b9ad5"
      },
      "source": [
        "# The second smallest element\n",
        "second_mini = grade_list[0]\n",
        "second_mini"
      ],
      "execution_count": 12,
      "outputs": [
        {
          "output_type": "execute_result",
          "data": {
            "text/plain": [
              "12.0"
            ]
          },
          "metadata": {
            "tags": []
          },
          "execution_count": 12
        }
      ]
    },
    {
      "cell_type": "code",
      "metadata": {
        "id": "ZZAi-79iGkLA",
        "colab_type": "code",
        "colab": {}
      },
      "source": [
        "# Get names of students with second lowest grades\n",
        "finalists = []\n",
        "for k, v in alli.items():\n",
        "  if v == second_mini:\n",
        "    finalists.append(k)\n",
        "    del k"
      ],
      "execution_count": 0,
      "outputs": []
    },
    {
      "cell_type": "code",
      "metadata": {
        "id": "1VLnAxOEGxd_",
        "colab_type": "code",
        "colab": {
          "base_uri": "https://localhost:8080/",
          "height": 50
        },
        "outputId": "b4347a89-2778-40b1-8c06-32e13d62bf37"
      },
      "source": [
        "# Sort the names\n",
        "finalists.sort()\n",
        "for i in finalists:\n",
        "  print(i)"
      ],
      "execution_count": 14,
      "outputs": [
        {
          "output_type": "stream",
          "text": [
            "Hesam\n",
            "Sara\n"
          ],
          "name": "stdout"
        }
      ]
    },
    {
      "cell_type": "code",
      "metadata": {
        "id": "9L9pthpeIW1Q",
        "colab_type": "code",
        "colab": {}
      },
      "source": [
        ""
      ],
      "execution_count": 0,
      "outputs": []
    }
  ]
}