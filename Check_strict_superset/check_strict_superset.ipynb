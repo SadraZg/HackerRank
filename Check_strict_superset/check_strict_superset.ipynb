{
  "nbformat": 4,
  "nbformat_minor": 0,
  "metadata": {
    "colab": {
      "name": "check_strict-superset.ipynb",
      "provenance": [],
      "authorship_tag": "ABX9TyOfnHxQGUFLBxBkvK7Ps2XY",
      "include_colab_link": true
    },
    "kernelspec": {
      "name": "python3",
      "display_name": "Python 3"
    }
  },
  "cells": [
    {
      "cell_type": "markdown",
      "metadata": {
        "id": "view-in-github",
        "colab_type": "text"
      },
      "source": [
        "<a href=\"https://colab.research.google.com/github/SadraZg/HackerRank/blob/master/Check_strict_superset/check_strict_superset.ipynb\" target=\"_parent\"><img src=\"https://colab.research.google.com/assets/colab-badge.svg\" alt=\"Open In Colab\"/></a>"
      ]
    },
    {
      "cell_type": "code",
      "metadata": {
        "id": "_RO4TUMvfglM",
        "colab_type": "code",
        "colab": {}
      },
      "source": [
        "def check(other_set, actual_set):\n",
        "\n",
        "  for item in other_set:\n",
        "    # If the subset contains an element which isn't in the source set, then it's a False entry\n",
        "    # return 0 for further check\n",
        "    if item not in actual_set:\n",
        "      return 0\n",
        "    else:\n",
        "      actual_set.remove(item)\n",
        "\n",
        "  return actual_set"
      ],
      "execution_count": 0,
      "outputs": []
    },
    {
      "cell_type": "code",
      "metadata": {
        "id": "2ytTtfM-fP7s",
        "colab_type": "code",
        "colab": {
          "base_uri": "https://localhost:8080/",
          "height": 50
        },
        "outputId": "28a35f2b-fb5a-44e8-ece3-f91f7255e68d"
      },
      "source": [
        "# Get the superset A\n",
        "A = set(map(int, input().split()))\n",
        "# Number of subsets n\n",
        "n = int(input())"
      ],
      "execution_count": 15,
      "outputs": [
        {
          "output_type": "stream",
          "text": [
            "1 2 3 4 5 6 7 8\n",
            "2\n"
          ],
          "name": "stdout"
        }
      ]
    },
    {
      "cell_type": "code",
      "metadata": {
        "id": "gWsN_9Xpfiq8",
        "colab_type": "code",
        "colab": {
          "base_uri": "https://localhost:8080/",
          "height": 50
        },
        "outputId": "82b59a89-097b-4a18-a363-1b723a885312"
      },
      "source": [
        "# Declared 'result' to avoid unnecessary work\n",
        "result = 1\n",
        "for i in range(n):\n",
        "  # Make a copy of A and pass this to function check each time ---> to avoid data loss\n",
        "  B = A.copy()\n",
        "  other = set(map(int, input().split()))\n",
        "  # The result variable is used here\n",
        "  # If we had 20 subsets and the first one already makes our answer False, well then enough work!\n",
        "  if result != 0:\n",
        "    result = check(other, B)"
      ],
      "execution_count": 16,
      "outputs": [
        {
          "output_type": "stream",
          "text": [
            "1 2 3 4\n",
            "1 6 7\n"
          ],
          "name": "stdout"
        }
      ]
    },
    {
      "cell_type": "code",
      "metadata": {
        "id": "ML-Geloifkz9",
        "colab_type": "code",
        "colab": {
          "base_uri": "https://localhost:8080/",
          "height": 34
        },
        "outputId": "ab141847-72e5-4981-a896-92aa6282213d"
      },
      "source": [
        "# Check if any subset contains any extra elemets(result != 0)\n",
        "# Check if the superset isn't strict (len(result) > 0)\n",
        "if result != 0 and len(result) > 0:\n",
        "    print(True)\n",
        "else:\n",
        "    print(False)"
      ],
      "execution_count": 17,
      "outputs": [
        {
          "output_type": "stream",
          "text": [
            "True\n"
          ],
          "name": "stdout"
        }
      ]
    },
    {
      "cell_type": "code",
      "metadata": {
        "id": "MkL-SJ6bfnAg",
        "colab_type": "code",
        "colab": {}
      },
      "source": [
        ""
      ],
      "execution_count": 0,
      "outputs": []
    }
  ]
}